{
 "cells": [
  {
   "cell_type": "markdown",
   "metadata": {},
   "source": [
    "# Introdução"
   ]
  },
  {
   "cell_type": "markdown",
   "metadata": {},
   "source": [
    "O dataset escolhido para a realização desse projeto trata-se das características de algumas músicas, para isso, ele apresenta diversas variáveis.\n",
    "Visando a variável ''gênero musical'' como alvo, agrupamos 3 desses gêneros (Hip-hop, Rap e Jazz) que, a partir de modelos de classificação e a utilização das demais variáveis, classificaremos se uma música faz ou não parte desses gêneros."
   ]
  },
  {
   "cell_type": "code",
   "execution_count": 200,
   "metadata": {},
   "outputs": [],
   "source": [
    "#importa bibliotecas\n",
    "import pandas as pd\n",
    "import numpy as np\n",
    "from scipy.stats import norm, probplot\n",
    "import statsmodels.api as sm\n",
    "import matplotlib.pyplot as plt\n",
    "from sklearn.linear_model import LogisticRegression\n",
    "from sklearn.model_selection import train_test_split\n",
    "import seaborn as sns\n",
    "from sklearn import preprocessing\n",
    "from sklearn.metrics import confusion_matrix\n",
    "from sklearn.metrics import classification_report\n",
    "from sklearn.metrics import roc_auc_score\n",
    "from sklearn.metrics import roc_curve\n",
    "from sklearn.tree import DecisionTreeClassifier\n",
    "from sklearn.model_selection import train_test_split\n",
    "from sklearn import metrics\n",
    "sns.set(style=\"white\")\n",
    "sns.set(style=\"whitegrid\", color_codes=True)"
   ]
  },
  {
   "cell_type": "markdown",
   "metadata": {},
   "source": [
    "# Minerando Dados e Características do Dataset"
   ]
  },
  {
   "cell_type": "code",
   "execution_count": 201,
   "metadata": {},
   "outputs": [
    {
     "data": {
      "text/html": [
       "<div>\n",
       "<style scoped>\n",
       "    .dataframe tbody tr th:only-of-type {\n",
       "        vertical-align: middle;\n",
       "    }\n",
       "\n",
       "    .dataframe tbody tr th {\n",
       "        vertical-align: top;\n",
       "    }\n",
       "\n",
       "    .dataframe thead th {\n",
       "        text-align: right;\n",
       "    }\n",
       "</style>\n",
       "<table border=\"1\" class=\"dataframe\">\n",
       "  <thead>\n",
       "    <tr style=\"text-align: right;\">\n",
       "      <th></th>\n",
       "      <th>instance_id</th>\n",
       "      <th>artist_name</th>\n",
       "      <th>track_name</th>\n",
       "      <th>popularity</th>\n",
       "      <th>acousticness</th>\n",
       "      <th>danceability</th>\n",
       "      <th>duration_ms</th>\n",
       "      <th>energy</th>\n",
       "      <th>instrumentalness</th>\n",
       "      <th>key</th>\n",
       "      <th>liveness</th>\n",
       "      <th>loudness</th>\n",
       "      <th>mode</th>\n",
       "      <th>speechiness</th>\n",
       "      <th>tempo</th>\n",
       "      <th>obtained_date</th>\n",
       "      <th>valence</th>\n",
       "      <th>music_genre</th>\n",
       "    </tr>\n",
       "  </thead>\n",
       "  <tbody>\n",
       "    <tr>\n",
       "      <th>0</th>\n",
       "      <td>32894.0</td>\n",
       "      <td>Röyksopp</td>\n",
       "      <td>Röyksopp's Night Out</td>\n",
       "      <td>27.0</td>\n",
       "      <td>0.00468</td>\n",
       "      <td>0.652</td>\n",
       "      <td>-1.0</td>\n",
       "      <td>0.941</td>\n",
       "      <td>0.79200</td>\n",
       "      <td>A#</td>\n",
       "      <td>0.115</td>\n",
       "      <td>-5.201</td>\n",
       "      <td>Minor</td>\n",
       "      <td>0.0748</td>\n",
       "      <td>100.889</td>\n",
       "      <td>4-Apr</td>\n",
       "      <td>0.759</td>\n",
       "      <td>Electronic</td>\n",
       "    </tr>\n",
       "    <tr>\n",
       "      <th>1</th>\n",
       "      <td>46652.0</td>\n",
       "      <td>Thievery Corporation</td>\n",
       "      <td>The Shining Path</td>\n",
       "      <td>31.0</td>\n",
       "      <td>0.01270</td>\n",
       "      <td>0.622</td>\n",
       "      <td>218293.0</td>\n",
       "      <td>0.890</td>\n",
       "      <td>0.95000</td>\n",
       "      <td>D</td>\n",
       "      <td>0.124</td>\n",
       "      <td>-7.043</td>\n",
       "      <td>Minor</td>\n",
       "      <td>0.0300</td>\n",
       "      <td>115.00200000000001</td>\n",
       "      <td>4-Apr</td>\n",
       "      <td>0.531</td>\n",
       "      <td>Electronic</td>\n",
       "    </tr>\n",
       "    <tr>\n",
       "      <th>2</th>\n",
       "      <td>30097.0</td>\n",
       "      <td>Dillon Francis</td>\n",
       "      <td>Hurricane</td>\n",
       "      <td>28.0</td>\n",
       "      <td>0.00306</td>\n",
       "      <td>0.620</td>\n",
       "      <td>215613.0</td>\n",
       "      <td>0.755</td>\n",
       "      <td>0.01180</td>\n",
       "      <td>G#</td>\n",
       "      <td>0.534</td>\n",
       "      <td>-4.617</td>\n",
       "      <td>Major</td>\n",
       "      <td>0.0345</td>\n",
       "      <td>127.994</td>\n",
       "      <td>4-Apr</td>\n",
       "      <td>0.333</td>\n",
       "      <td>Electronic</td>\n",
       "    </tr>\n",
       "    <tr>\n",
       "      <th>3</th>\n",
       "      <td>62177.0</td>\n",
       "      <td>Dubloadz</td>\n",
       "      <td>Nitro</td>\n",
       "      <td>34.0</td>\n",
       "      <td>0.02540</td>\n",
       "      <td>0.774</td>\n",
       "      <td>166875.0</td>\n",
       "      <td>0.700</td>\n",
       "      <td>0.00253</td>\n",
       "      <td>C#</td>\n",
       "      <td>0.157</td>\n",
       "      <td>-4.498</td>\n",
       "      <td>Major</td>\n",
       "      <td>0.2390</td>\n",
       "      <td>128.014</td>\n",
       "      <td>4-Apr</td>\n",
       "      <td>0.270</td>\n",
       "      <td>Electronic</td>\n",
       "    </tr>\n",
       "    <tr>\n",
       "      <th>4</th>\n",
       "      <td>24907.0</td>\n",
       "      <td>What So Not</td>\n",
       "      <td>Divide &amp; Conquer</td>\n",
       "      <td>32.0</td>\n",
       "      <td>0.00465</td>\n",
       "      <td>0.638</td>\n",
       "      <td>222369.0</td>\n",
       "      <td>0.587</td>\n",
       "      <td>0.90900</td>\n",
       "      <td>F#</td>\n",
       "      <td>0.157</td>\n",
       "      <td>-6.266</td>\n",
       "      <td>Major</td>\n",
       "      <td>0.0413</td>\n",
       "      <td>145.036</td>\n",
       "      <td>4-Apr</td>\n",
       "      <td>0.323</td>\n",
       "      <td>Electronic</td>\n",
       "    </tr>\n",
       "  </tbody>\n",
       "</table>\n",
       "</div>"
      ],
      "text/plain": [
       "   instance_id           artist_name            track_name  popularity  \\\n",
       "0      32894.0              Röyksopp  Röyksopp's Night Out        27.0   \n",
       "1      46652.0  Thievery Corporation      The Shining Path        31.0   \n",
       "2      30097.0        Dillon Francis             Hurricane        28.0   \n",
       "3      62177.0              Dubloadz                 Nitro        34.0   \n",
       "4      24907.0           What So Not      Divide & Conquer        32.0   \n",
       "\n",
       "   acousticness  danceability  duration_ms  energy  instrumentalness key  \\\n",
       "0       0.00468         0.652         -1.0   0.941           0.79200  A#   \n",
       "1       0.01270         0.622     218293.0   0.890           0.95000   D   \n",
       "2       0.00306         0.620     215613.0   0.755           0.01180  G#   \n",
       "3       0.02540         0.774     166875.0   0.700           0.00253  C#   \n",
       "4       0.00465         0.638     222369.0   0.587           0.90900  F#   \n",
       "\n",
       "   liveness  loudness   mode  speechiness               tempo obtained_date  \\\n",
       "0     0.115    -5.201  Minor       0.0748             100.889         4-Apr   \n",
       "1     0.124    -7.043  Minor       0.0300  115.00200000000001         4-Apr   \n",
       "2     0.534    -4.617  Major       0.0345             127.994         4-Apr   \n",
       "3     0.157    -4.498  Major       0.2390             128.014         4-Apr   \n",
       "4     0.157    -6.266  Major       0.0413             145.036         4-Apr   \n",
       "\n",
       "   valence music_genre  \n",
       "0    0.759  Electronic  \n",
       "1    0.531  Electronic  \n",
       "2    0.333  Electronic  \n",
       "3    0.270  Electronic  \n",
       "4    0.323  Electronic  "
      ]
     },
     "execution_count": 201,
     "metadata": {},
     "output_type": "execute_result"
    }
   ],
   "source": [
    "data = pd.read_csv(\"music_genre.csv\")\n",
    "data.head()"
   ]
  },
  {
   "cell_type": "code",
   "execution_count": 202,
   "metadata": {},
   "outputs": [
    {
     "data": {
      "text/plain": [
       "Index(['instance_id', 'artist_name', 'track_name', 'popularity',\n",
       "       'acousticness', 'danceability', 'duration_ms', 'energy',\n",
       "       'instrumentalness', 'key', 'liveness', 'loudness', 'mode',\n",
       "       'speechiness', 'tempo', 'obtained_date', 'valence', 'music_genre'],\n",
       "      dtype='object')"
      ]
     },
     "execution_count": 202,
     "metadata": {},
     "output_type": "execute_result"
    }
   ],
   "source": [
    "data.columns"
   ]
  },
  {
   "cell_type": "markdown",
   "metadata": {},
   "source": [
    "Limpeza da base de dados"
   ]
  },
  {
   "cell_type": "code",
   "execution_count": 203,
   "metadata": {},
   "outputs": [
    {
     "name": "stdout",
     "output_type": "stream",
     "text": [
      "artist_name         5\n",
      "popularity          5\n",
      "acousticness        5\n",
      "danceability        5\n",
      "duration_ms         5\n",
      "energy              5\n",
      "instrumentalness    5\n",
      "key                 5\n",
      "liveness            5\n",
      "loudness            5\n",
      "mode                5\n",
      "speechiness         5\n",
      "tempo               5\n",
      "valence             5\n",
      "music_genre         5\n",
      "dtype: int64\n"
     ]
    }
   ],
   "source": [
    "df=data[['artist_name', 'popularity',\n",
    "       'acousticness', 'danceability', 'duration_ms', 'energy',\n",
    "       'instrumentalness', 'key', 'liveness', 'loudness', 'mode',\n",
    "       'speechiness', 'tempo', 'valence','music_genre']]\n",
    "df.describe()\n",
    "print(df.isnull().sum())"
   ]
  },
  {
   "cell_type": "code",
   "execution_count": 204,
   "metadata": {},
   "outputs": [
    {
     "name": "stdout",
     "output_type": "stream",
     "text": [
      "artist_name         0\n",
      "popularity          0\n",
      "acousticness        0\n",
      "danceability        0\n",
      "duration_ms         0\n",
      "energy              0\n",
      "instrumentalness    0\n",
      "key                 0\n",
      "liveness            0\n",
      "loudness            0\n",
      "mode                0\n",
      "speechiness         0\n",
      "tempo               0\n",
      "valence             0\n",
      "music_genre         0\n",
      "dtype: int64\n"
     ]
    }
   ],
   "source": [
    "df=df.dropna(axis=0)\n",
    "print(df.isnull().sum())"
   ]
  },
  {
   "cell_type": "markdown",
   "metadata": {},
   "source": [
    "Visualizando os tipos de variáveis"
   ]
  },
  {
   "cell_type": "code",
   "execution_count": 205,
   "metadata": {},
   "outputs": [
    {
     "name": "stdout",
     "output_type": "stream",
     "text": [
      "artist_name          object\n",
      "popularity          float64\n",
      "acousticness        float64\n",
      "danceability        float64\n",
      "duration_ms         float64\n",
      "energy              float64\n",
      "instrumentalness    float64\n",
      "key                  object\n",
      "liveness            float64\n",
      "loudness            float64\n",
      "mode                 object\n",
      "speechiness         float64\n",
      "tempo                object\n",
      "valence             float64\n",
      "music_genre          object\n",
      "dtype: object\n"
     ]
    }
   ],
   "source": [
    "print(df.dtypes)"
   ]
  },
  {
   "cell_type": "markdown",
   "metadata": {},
   "source": [
    "\n",
    "Tirando variáveis qualitativas quais não conseguimos trabalhar\n"
   ]
  },
  {
   "cell_type": "code",
   "execution_count": 206,
   "metadata": {},
   "outputs": [],
   "source": [
    "variaveis_irrelevantes=['artist_name','key','mode','tempo']\n",
    "df=df.drop(variaveis_irrelevantes,axis=1)"
   ]
  },
  {
   "cell_type": "code",
   "execution_count": 207,
   "metadata": {},
   "outputs": [
    {
     "name": "stdout",
     "output_type": "stream",
     "text": [
      "popularity          float64\n",
      "acousticness        float64\n",
      "danceability        float64\n",
      "duration_ms         float64\n",
      "energy              float64\n",
      "instrumentalness    float64\n",
      "liveness            float64\n",
      "loudness            float64\n",
      "speechiness         float64\n",
      "valence             float64\n",
      "music_genre          object\n",
      "dtype: object\n"
     ]
    }
   ],
   "source": [
    "print(df.dtypes)"
   ]
  },
  {
   "cell_type": "markdown",
   "metadata": {},
   "source": [
    "Visualizando quais generos musicais temos"
   ]
  },
  {
   "cell_type": "code",
   "execution_count": 208,
   "metadata": {},
   "outputs": [
    {
     "name": "stdout",
     "output_type": "stream",
     "text": [
      "Electronic     5000\n",
      "Anime          5000\n",
      "Jazz           5000\n",
      "Alternative    5000\n",
      "Country        5000\n",
      "Rap            5000\n",
      "Blues          5000\n",
      "Rock           5000\n",
      "Classical      5000\n",
      "Hip-Hop        5000\n",
      "Name: music_genre, dtype: int64\n"
     ]
    }
   ],
   "source": [
    "print(df['music_genre'].value_counts())"
   ]
  },
  {
   "cell_type": "markdown",
   "metadata": {},
   "source": [
    "Indexando os gêneros para facilitar o manuseio"
   ]
  },
  {
   "cell_type": "code",
   "execution_count": 209,
   "metadata": {},
   "outputs": [],
   "source": [
    "dic={\"Alternative\":0,\"Anime\":1,\"Blues\":2,\"Classical\":3,\"Country\":4,\"Electronic\":5,\"Hip-Hop\":6,\"Jazz\":7,\"Rap\":8,\"Rock\":9}\n",
    "df['music_genre']=df['music_genre'].map(dic)"
   ]
  },
  {
   "cell_type": "markdown",
   "metadata": {},
   "source": [
    "Escolhendo os gêneros musicais que queremos trabalhar"
   ]
  },
  {
   "cell_type": "code",
   "execution_count": 210,
   "metadata": {},
   "outputs": [],
   "source": [
    "df['Escolhidos']=0\n",
    "df.loc[df['music_genre']==6,\"Escolhidos\"]=1\n",
    "df.loc[df['music_genre']==7,\"Escolhidos\"]=1\n",
    "df.loc[df['music_genre']==8,\"Escolhidos\"]=1"
   ]
  },
  {
   "cell_type": "code",
   "execution_count": 211,
   "metadata": {},
   "outputs": [
    {
     "name": "stdout",
     "output_type": "stream",
     "text": [
      "0    35000\n",
      "1    15000\n",
      "Name: Escolhidos, dtype: int64\n"
     ]
    },
    {
     "data": {
      "text/html": [
       "<div>\n",
       "<style scoped>\n",
       "    .dataframe tbody tr th:only-of-type {\n",
       "        vertical-align: middle;\n",
       "    }\n",
       "\n",
       "    .dataframe tbody tr th {\n",
       "        vertical-align: top;\n",
       "    }\n",
       "\n",
       "    .dataframe thead th {\n",
       "        text-align: right;\n",
       "    }\n",
       "</style>\n",
       "<table border=\"1\" class=\"dataframe\">\n",
       "  <thead>\n",
       "    <tr style=\"text-align: right;\">\n",
       "      <th></th>\n",
       "      <th>popularity</th>\n",
       "      <th>acousticness</th>\n",
       "      <th>danceability</th>\n",
       "      <th>duration_ms</th>\n",
       "      <th>energy</th>\n",
       "      <th>instrumentalness</th>\n",
       "      <th>liveness</th>\n",
       "      <th>loudness</th>\n",
       "      <th>speechiness</th>\n",
       "      <th>valence</th>\n",
       "      <th>music_genre</th>\n",
       "      <th>Escolhidos</th>\n",
       "    </tr>\n",
       "  </thead>\n",
       "  <tbody>\n",
       "    <tr>\n",
       "      <th>0</th>\n",
       "      <td>27.0</td>\n",
       "      <td>0.00468</td>\n",
       "      <td>0.652</td>\n",
       "      <td>-1.0</td>\n",
       "      <td>0.941</td>\n",
       "      <td>0.792000</td>\n",
       "      <td>0.1150</td>\n",
       "      <td>-5.201</td>\n",
       "      <td>0.0748</td>\n",
       "      <td>0.759</td>\n",
       "      <td>5</td>\n",
       "      <td>0</td>\n",
       "    </tr>\n",
       "    <tr>\n",
       "      <th>1</th>\n",
       "      <td>31.0</td>\n",
       "      <td>0.01270</td>\n",
       "      <td>0.622</td>\n",
       "      <td>218293.0</td>\n",
       "      <td>0.890</td>\n",
       "      <td>0.950000</td>\n",
       "      <td>0.1240</td>\n",
       "      <td>-7.043</td>\n",
       "      <td>0.0300</td>\n",
       "      <td>0.531</td>\n",
       "      <td>5</td>\n",
       "      <td>0</td>\n",
       "    </tr>\n",
       "    <tr>\n",
       "      <th>2</th>\n",
       "      <td>28.0</td>\n",
       "      <td>0.00306</td>\n",
       "      <td>0.620</td>\n",
       "      <td>215613.0</td>\n",
       "      <td>0.755</td>\n",
       "      <td>0.011800</td>\n",
       "      <td>0.5340</td>\n",
       "      <td>-4.617</td>\n",
       "      <td>0.0345</td>\n",
       "      <td>0.333</td>\n",
       "      <td>5</td>\n",
       "      <td>0</td>\n",
       "    </tr>\n",
       "    <tr>\n",
       "      <th>3</th>\n",
       "      <td>34.0</td>\n",
       "      <td>0.02540</td>\n",
       "      <td>0.774</td>\n",
       "      <td>166875.0</td>\n",
       "      <td>0.700</td>\n",
       "      <td>0.002530</td>\n",
       "      <td>0.1570</td>\n",
       "      <td>-4.498</td>\n",
       "      <td>0.2390</td>\n",
       "      <td>0.270</td>\n",
       "      <td>5</td>\n",
       "      <td>0</td>\n",
       "    </tr>\n",
       "    <tr>\n",
       "      <th>4</th>\n",
       "      <td>32.0</td>\n",
       "      <td>0.00465</td>\n",
       "      <td>0.638</td>\n",
       "      <td>222369.0</td>\n",
       "      <td>0.587</td>\n",
       "      <td>0.909000</td>\n",
       "      <td>0.1570</td>\n",
       "      <td>-6.266</td>\n",
       "      <td>0.0413</td>\n",
       "      <td>0.323</td>\n",
       "      <td>5</td>\n",
       "      <td>0</td>\n",
       "    </tr>\n",
       "    <tr>\n",
       "      <th>5</th>\n",
       "      <td>47.0</td>\n",
       "      <td>0.00523</td>\n",
       "      <td>0.755</td>\n",
       "      <td>519468.0</td>\n",
       "      <td>0.731</td>\n",
       "      <td>0.854000</td>\n",
       "      <td>0.2160</td>\n",
       "      <td>-10.517</td>\n",
       "      <td>0.0412</td>\n",
       "      <td>0.614</td>\n",
       "      <td>5</td>\n",
       "      <td>0</td>\n",
       "    </tr>\n",
       "    <tr>\n",
       "      <th>6</th>\n",
       "      <td>46.0</td>\n",
       "      <td>0.02890</td>\n",
       "      <td>0.572</td>\n",
       "      <td>214408.0</td>\n",
       "      <td>0.803</td>\n",
       "      <td>0.000008</td>\n",
       "      <td>0.1060</td>\n",
       "      <td>-4.294</td>\n",
       "      <td>0.3510</td>\n",
       "      <td>0.230</td>\n",
       "      <td>5</td>\n",
       "      <td>0</td>\n",
       "    </tr>\n",
       "    <tr>\n",
       "      <th>7</th>\n",
       "      <td>43.0</td>\n",
       "      <td>0.02970</td>\n",
       "      <td>0.809</td>\n",
       "      <td>416132.0</td>\n",
       "      <td>0.706</td>\n",
       "      <td>0.903000</td>\n",
       "      <td>0.0635</td>\n",
       "      <td>-9.339</td>\n",
       "      <td>0.0484</td>\n",
       "      <td>0.761</td>\n",
       "      <td>5</td>\n",
       "      <td>0</td>\n",
       "    </tr>\n",
       "    <tr>\n",
       "      <th>8</th>\n",
       "      <td>39.0</td>\n",
       "      <td>0.00299</td>\n",
       "      <td>0.509</td>\n",
       "      <td>292800.0</td>\n",
       "      <td>0.921</td>\n",
       "      <td>0.000276</td>\n",
       "      <td>0.1780</td>\n",
       "      <td>-3.175</td>\n",
       "      <td>0.2680</td>\n",
       "      <td>0.273</td>\n",
       "      <td>5</td>\n",
       "      <td>0</td>\n",
       "    </tr>\n",
       "    <tr>\n",
       "      <th>9</th>\n",
       "      <td>22.0</td>\n",
       "      <td>0.00934</td>\n",
       "      <td>0.578</td>\n",
       "      <td>204800.0</td>\n",
       "      <td>0.731</td>\n",
       "      <td>0.011200</td>\n",
       "      <td>0.1110</td>\n",
       "      <td>-7.091</td>\n",
       "      <td>0.1730</td>\n",
       "      <td>0.203</td>\n",
       "      <td>5</td>\n",
       "      <td>0</td>\n",
       "    </tr>\n",
       "  </tbody>\n",
       "</table>\n",
       "</div>"
      ],
      "text/plain": [
       "   popularity  acousticness  danceability  duration_ms  energy  \\\n",
       "0        27.0       0.00468         0.652         -1.0   0.941   \n",
       "1        31.0       0.01270         0.622     218293.0   0.890   \n",
       "2        28.0       0.00306         0.620     215613.0   0.755   \n",
       "3        34.0       0.02540         0.774     166875.0   0.700   \n",
       "4        32.0       0.00465         0.638     222369.0   0.587   \n",
       "5        47.0       0.00523         0.755     519468.0   0.731   \n",
       "6        46.0       0.02890         0.572     214408.0   0.803   \n",
       "7        43.0       0.02970         0.809     416132.0   0.706   \n",
       "8        39.0       0.00299         0.509     292800.0   0.921   \n",
       "9        22.0       0.00934         0.578     204800.0   0.731   \n",
       "\n",
       "   instrumentalness  liveness  loudness  speechiness  valence  music_genre  \\\n",
       "0          0.792000    0.1150    -5.201       0.0748    0.759            5   \n",
       "1          0.950000    0.1240    -7.043       0.0300    0.531            5   \n",
       "2          0.011800    0.5340    -4.617       0.0345    0.333            5   \n",
       "3          0.002530    0.1570    -4.498       0.2390    0.270            5   \n",
       "4          0.909000    0.1570    -6.266       0.0413    0.323            5   \n",
       "5          0.854000    0.2160   -10.517       0.0412    0.614            5   \n",
       "6          0.000008    0.1060    -4.294       0.3510    0.230            5   \n",
       "7          0.903000    0.0635    -9.339       0.0484    0.761            5   \n",
       "8          0.000276    0.1780    -3.175       0.2680    0.273            5   \n",
       "9          0.011200    0.1110    -7.091       0.1730    0.203            5   \n",
       "\n",
       "   Escolhidos  \n",
       "0           0  \n",
       "1           0  \n",
       "2           0  \n",
       "3           0  \n",
       "4           0  \n",
       "5           0  \n",
       "6           0  \n",
       "7           0  \n",
       "8           0  \n",
       "9           0  "
      ]
     },
     "execution_count": 211,
     "metadata": {},
     "output_type": "execute_result"
    }
   ],
   "source": [
    "print(df['Escolhidos'].value_counts())\n",
    "df.head(10)"
   ]
  },
  {
   "cell_type": "markdown",
   "metadata": {},
   "source": [
    "Definindo variavel target como pdSeries Y e as features como a lista X"
   ]
  },
  {
   "cell_type": "code",
   "execution_count": 212,
   "metadata": {},
   "outputs": [],
   "source": [
    "X=['popularity','acousticness', 'danceability','duration_ms', 'energy','instrumentalness', 'liveness','loudness','speechiness', 'valence']\n",
    "Y=df['Escolhidos']"
   ]
  },
  {
   "cell_type": "markdown",
   "metadata": {},
   "source": [
    "# Análise exploratória\n"
   ]
  },
  {
   "cell_type": "code",
   "execution_count": 213,
   "metadata": {},
   "outputs": [],
   "source": [
    "import seaborn as sns"
   ]
  },
  {
   "cell_type": "code",
   "execution_count": 214,
   "metadata": {},
   "outputs": [
    {
     "data": {
      "image/png": "[encoded data removed]",
      "text/plain": [
       "<Figure size 432x288 with 1 Axes>"
      ]
     },
     "metadata": {},
     "output_type": "display_data"
    }
   ],
   "source": [
    "sns.countplot(x='Escolhidos',data=df,palette='hls')\n",
    "plt.show()"
   ]
  },
  {
   "cell_type": "code",
   "execution_count": 215,
   "metadata": {},
   "outputs": [
    {
     "data": {
      "text/plain": [
       "<AxesSubplot:xlabel='Escolhidos', ylabel='danceability'>"
      ]
     },
     "execution_count": 215,
     "metadata": {},
     "output_type": "execute_result"
    },
    {
     "data": {
      "image/png": "[encoded data removed]",
      "text/plain": [
       "<Figure size 432x288 with 1 Axes>"
      ]
     },
     "metadata": {},
     "output_type": "display_data"
    }
   ],
   "source": [
    "sns.boxplot(x=df['Escolhidos'],y=df['danceability'])\n"
   ]
  },
  {
   "cell_type": "code",
   "execution_count": 216,
   "metadata": {},
   "outputs": [
    {
     "data": {
      "text/plain": [
       "<AxesSubplot:xlabel='Escolhidos', ylabel='energy'>"
      ]
     },
     "execution_count": 216,
     "metadata": {},
     "output_type": "execute_result"
    },
    {
     "data": {
      "image/png": "[encoded data removed]",
      "text/plain": [
       "<Figure size 432x288 with 1 Axes>"
      ]
     },
     "metadata": {},
     "output_type": "display_data"
    }
   ],
   "source": [
    "sns.boxplot(x=df['Escolhidos'],y=df['energy'])\n"
   ]
  },
  {
   "cell_type": "markdown",
   "metadata": {},
   "source": [
    "# Modelo de Regressão Logistica\n",
    "Na regressão logística, os valores de entrada (x) são combinados linearmente usando valores de coeficiente para prever um valor de saída (y)."
   ]
  },
  {
   "cell_type": "markdown",
   "metadata": {},
   "source": [
    "Definindo função para auxiliar na criação do modelo usando a regressão logística do statsmodels, uma vez que este é mais fácil de trabalhar e analisar quais variaveis não são válidas."
   ]
  },
  {
   "cell_type": "code",
   "execution_count": 217,
   "metadata": {},
   "outputs": [],
   "source": [
    "def regress(Y,X):\n",
    "    global X_train, X_test, y_train, y_test\n",
    "\n",
    "    X_train, X_test, y_train, y_test = train_test_split(df[X], Y, test_size=0.3, random_state=0)\n",
    "    model = sm.Logit(y_train,X_train)\n",
    "    results = model.fit()\n",
    "    \n",
    "    return results"
   ]
  },
  {
   "cell_type": "markdown",
   "metadata": {},
   "source": [
    "Eliminando variaveis auxiliares com P>|z| maior que α=10%."
   ]
  },
  {
   "cell_type": "code",
   "execution_count": 218,
   "metadata": {},
   "outputs": [
    {
     "name": "stdout",
     "output_type": "stream",
     "text": [
      "Optimization terminated successfully.\n",
      "         Current function value: 0.433300\n",
      "         Iterations 7\n"
     ]
    },
    {
     "data": {
      "text/html": [
       "<table class=\"simpletable\">\n",
       "<caption>Logit Regression Results</caption>\n",
       "<tr>\n",
       "  <th>Dep. Variable:</th>      <td>Escolhidos</td>    <th>  No. Observations:  </th>  <td> 35000</td> \n",
       "</tr>\n",
       "<tr>\n",
       "  <th>Model:</th>                 <td>Logit</td>      <th>  Df Residuals:      </th>  <td> 34990</td> \n",
       "</tr>\n",
       "<tr>\n",
       "  <th>Method:</th>                 <td>MLE</td>       <th>  Df Model:          </th>  <td>     9</td> \n",
       "</tr>\n",
       "<tr>\n",
       "  <th>Date:</th>            <td>Tue, 30 Nov 2021</td> <th>  Pseudo R-squ.:     </th>  <td>0.2907</td> \n",
       "</tr>\n",
       "<tr>\n",
       "  <th>Time:</th>                <td>23:02:26</td>     <th>  Log-Likelihood:    </th> <td> -15166.</td>\n",
       "</tr>\n",
       "<tr>\n",
       "  <th>converged:</th>             <td>True</td>       <th>  LL-Null:           </th> <td> -21381.</td>\n",
       "</tr>\n",
       "<tr>\n",
       "  <th>Covariance Type:</th>     <td>nonrobust</td>    <th>  LLR p-value:       </th>  <td> 0.000</td> \n",
       "</tr>\n",
       "</table>\n",
       "<table class=\"simpletable\">\n",
       "<tr>\n",
       "          <td></td>            <th>coef</th>     <th>std err</th>      <th>z</th>      <th>P>|z|</th>  <th>[0.025</th>    <th>0.975]</th>  \n",
       "</tr>\n",
       "<tr>\n",
       "  <th>popularity</th>       <td>    0.0460</td> <td>    0.001</td> <td>   41.526</td> <td> 0.000</td> <td>    0.044</td> <td>    0.048</td>\n",
       "</tr>\n",
       "<tr>\n",
       "  <th>acousticness</th>     <td>   -0.4781</td> <td>    0.063</td> <td>   -7.588</td> <td> 0.000</td> <td>   -0.602</td> <td>   -0.355</td>\n",
       "</tr>\n",
       "<tr>\n",
       "  <th>danceability</th>     <td>    2.9316</td> <td>    0.093</td> <td>   31.465</td> <td> 0.000</td> <td>    2.749</td> <td>    3.114</td>\n",
       "</tr>\n",
       "<tr>\n",
       "  <th>duration_ms</th>      <td>-1.668e-07</td> <td> 1.24e-07</td> <td>   -1.349</td> <td> 0.177</td> <td>-4.09e-07</td> <td> 7.55e-08</td>\n",
       "</tr>\n",
       "<tr>\n",
       "  <th>energy</th>           <td>   -6.2749</td> <td>    0.091</td> <td>  -68.825</td> <td> 0.000</td> <td>   -6.454</td> <td>   -6.096</td>\n",
       "</tr>\n",
       "<tr>\n",
       "  <th>instrumentalness</th> <td>    1.0723</td> <td>    0.057</td> <td>   18.659</td> <td> 0.000</td> <td>    0.960</td> <td>    1.185</td>\n",
       "</tr>\n",
       "<tr>\n",
       "  <th>liveness</th>         <td>    0.0229</td> <td>    0.096</td> <td>    0.238</td> <td> 0.812</td> <td>   -0.166</td> <td>    0.212</td>\n",
       "</tr>\n",
       "<tr>\n",
       "  <th>loudness</th>         <td>    0.2115</td> <td>    0.005</td> <td>   45.734</td> <td> 0.000</td> <td>    0.202</td> <td>    0.221</td>\n",
       "</tr>\n",
       "<tr>\n",
       "  <th>speechiness</th>      <td>    8.7004</td> <td>    0.171</td> <td>   50.876</td> <td> 0.000</td> <td>    8.365</td> <td>    9.036</td>\n",
       "</tr>\n",
       "<tr>\n",
       "  <th>valence</th>          <td>    0.1683</td> <td>    0.070</td> <td>    2.409</td> <td> 0.016</td> <td>    0.031</td> <td>    0.305</td>\n",
       "</tr>\n",
       "</table>"
      ],
      "text/plain": [
       "<class 'statsmodels.iolib.summary.Summary'>\n",
       "\"\"\"\n",
       "                           Logit Regression Results                           \n",
       "==============================================================================\n",
       "Dep. Variable:             Escolhidos   No. Observations:                35000\n",
       "Model:                          Logit   Df Residuals:                    34990\n",
       "Method:                           MLE   Df Model:                            9\n",
       "Date:                Tue, 30 Nov 2021   Pseudo R-squ.:                  0.2907\n",
       "Time:                        23:02:26   Log-Likelihood:                -15166.\n",
       "converged:                       True   LL-Null:                       -21381.\n",
       "Covariance Type:            nonrobust   LLR p-value:                     0.000\n",
       "====================================================================================\n",
       "                       coef    std err          z      P>|z|      [0.025      0.975]\n",
       "------------------------------------------------------------------------------------\n",
       "popularity           0.0460      0.001     41.526      0.000       0.044       0.048\n",
       "acousticness        -0.4781      0.063     -7.588      0.000      -0.602      -0.355\n",
       "danceability         2.9316      0.093     31.465      0.000       2.749       3.114\n",
       "duration_ms      -1.668e-07   1.24e-07     -1.349      0.177   -4.09e-07    7.55e-08\n",
       "energy              -6.2749      0.091    -68.825      0.000      -6.454      -6.096\n",
       "instrumentalness     1.0723      0.057     18.659      0.000       0.960       1.185\n",
       "liveness             0.0229      0.096      0.238      0.812      -0.166       0.212\n",
       "loudness             0.2115      0.005     45.734      0.000       0.202       0.221\n",
       "speechiness          8.7004      0.171     50.876      0.000       8.365       9.036\n",
       "valence              0.1683      0.070      2.409      0.016       0.031       0.305\n",
       "====================================================================================\n",
       "\"\"\""
      ]
     },
     "execution_count": 218,
     "metadata": {},
     "output_type": "execute_result"
    }
   ],
   "source": [
    "results = regress(Y,X)\n",
    "results.summary()"
   ]
  },
  {
   "cell_type": "code",
   "execution_count": 219,
   "metadata": {},
   "outputs": [
    {
     "name": "stdout",
     "output_type": "stream",
     "text": [
      "Optimization terminated successfully.\n",
      "         Current function value: 0.433301\n",
      "         Iterations 7\n"
     ]
    },
    {
     "data": {
      "text/html": [
       "<table class=\"simpletable\">\n",
       "<caption>Logit Regression Results</caption>\n",
       "<tr>\n",
       "  <th>Dep. Variable:</th>      <td>Escolhidos</td>    <th>  No. Observations:  </th>  <td> 35000</td> \n",
       "</tr>\n",
       "<tr>\n",
       "  <th>Model:</th>                 <td>Logit</td>      <th>  Df Residuals:      </th>  <td> 34991</td> \n",
       "</tr>\n",
       "<tr>\n",
       "  <th>Method:</th>                 <td>MLE</td>       <th>  Df Model:          </th>  <td>     8</td> \n",
       "</tr>\n",
       "<tr>\n",
       "  <th>Date:</th>            <td>Tue, 30 Nov 2021</td> <th>  Pseudo R-squ.:     </th>  <td>0.2907</td> \n",
       "</tr>\n",
       "<tr>\n",
       "  <th>Time:</th>                <td>23:02:27</td>     <th>  Log-Likelihood:    </th> <td> -15166.</td>\n",
       "</tr>\n",
       "<tr>\n",
       "  <th>converged:</th>             <td>True</td>       <th>  LL-Null:           </th> <td> -21381.</td>\n",
       "</tr>\n",
       "<tr>\n",
       "  <th>Covariance Type:</th>     <td>nonrobust</td>    <th>  LLR p-value:       </th>  <td> 0.000</td> \n",
       "</tr>\n",
       "</table>\n",
       "<table class=\"simpletable\">\n",
       "<tr>\n",
       "          <td></td>            <th>coef</th>     <th>std err</th>      <th>z</th>      <th>P>|z|</th>  <th>[0.025</th>    <th>0.975]</th>  \n",
       "</tr>\n",
       "<tr>\n",
       "  <th>popularity</th>       <td>    0.0460</td> <td>    0.001</td> <td>   41.530</td> <td> 0.000</td> <td>    0.044</td> <td>    0.048</td>\n",
       "</tr>\n",
       "<tr>\n",
       "  <th>acousticness</th>     <td>   -0.4771</td> <td>    0.063</td> <td>   -7.588</td> <td> 0.000</td> <td>   -0.600</td> <td>   -0.354</td>\n",
       "</tr>\n",
       "<tr>\n",
       "  <th>danceability</th>     <td>    2.9304</td> <td>    0.093</td> <td>   31.502</td> <td> 0.000</td> <td>    2.748</td> <td>    3.113</td>\n",
       "</tr>\n",
       "<tr>\n",
       "  <th>duration_ms</th>      <td>-1.659e-07</td> <td> 1.24e-07</td> <td>   -1.342</td> <td> 0.179</td> <td>-4.08e-07</td> <td> 7.63e-08</td>\n",
       "</tr>\n",
       "<tr>\n",
       "  <th>energy</th>           <td>   -6.2691</td> <td>    0.088</td> <td>  -71.376</td> <td> 0.000</td> <td>   -6.441</td> <td>   -6.097</td>\n",
       "</tr>\n",
       "<tr>\n",
       "  <th>instrumentalness</th> <td>    1.0716</td> <td>    0.057</td> <td>   18.671</td> <td> 0.000</td> <td>    0.959</td> <td>    1.184</td>\n",
       "</tr>\n",
       "<tr>\n",
       "  <th>loudness</th>         <td>    0.2114</td> <td>    0.005</td> <td>   46.041</td> <td> 0.000</td> <td>    0.202</td> <td>    0.220</td>\n",
       "</tr>\n",
       "<tr>\n",
       "  <th>speechiness</th>      <td>    8.7053</td> <td>    0.170</td> <td>   51.287</td> <td> 0.000</td> <td>    8.373</td> <td>    9.038</td>\n",
       "</tr>\n",
       "<tr>\n",
       "  <th>valence</th>          <td>    0.1681</td> <td>    0.070</td> <td>    2.406</td> <td> 0.016</td> <td>    0.031</td> <td>    0.305</td>\n",
       "</tr>\n",
       "</table>"
      ],
      "text/plain": [
       "<class 'statsmodels.iolib.summary.Summary'>\n",
       "\"\"\"\n",
       "                           Logit Regression Results                           \n",
       "==============================================================================\n",
       "Dep. Variable:             Escolhidos   No. Observations:                35000\n",
       "Model:                          Logit   Df Residuals:                    34991\n",
       "Method:                           MLE   Df Model:                            8\n",
       "Date:                Tue, 30 Nov 2021   Pseudo R-squ.:                  0.2907\n",
       "Time:                        23:02:27   Log-Likelihood:                -15166.\n",
       "converged:                       True   LL-Null:                       -21381.\n",
       "Covariance Type:            nonrobust   LLR p-value:                     0.000\n",
       "====================================================================================\n",
       "                       coef    std err          z      P>|z|      [0.025      0.975]\n",
       "------------------------------------------------------------------------------------\n",
       "popularity           0.0460      0.001     41.530      0.000       0.044       0.048\n",
       "acousticness        -0.4771      0.063     -7.588      0.000      -0.600      -0.354\n",
       "danceability         2.9304      0.093     31.502      0.000       2.748       3.113\n",
       "duration_ms      -1.659e-07   1.24e-07     -1.342      0.179   -4.08e-07    7.63e-08\n",
       "energy              -6.2691      0.088    -71.376      0.000      -6.441      -6.097\n",
       "instrumentalness     1.0716      0.057     18.671      0.000       0.959       1.184\n",
       "loudness             0.2114      0.005     46.041      0.000       0.202       0.220\n",
       "speechiness          8.7053      0.170     51.287      0.000       8.373       9.038\n",
       "valence              0.1681      0.070      2.406      0.016       0.031       0.305\n",
       "====================================================================================\n",
       "\"\"\""
      ]
     },
     "execution_count": 219,
     "metadata": {},
     "output_type": "execute_result"
    }
   ],
   "source": [
    "X=['popularity','acousticness', 'danceability','duration_ms', 'energy','instrumentalness','loudness','speechiness', 'valence']\n",
    "results = regress(Y,X)\n",
    "results.summary()"
   ]
  },
  {
   "cell_type": "code",
   "execution_count": 220,
   "metadata": {},
   "outputs": [
    {
     "name": "stdout",
     "output_type": "stream",
     "text": [
      "Optimization terminated successfully.\n",
      "         Current function value: 0.433327\n",
      "         Iterations 7\n"
     ]
    },
    {
     "data": {
      "text/html": [
       "<table class=\"simpletable\">\n",
       "<caption>Logit Regression Results</caption>\n",
       "<tr>\n",
       "  <th>Dep. Variable:</th>      <td>Escolhidos</td>    <th>  No. Observations:  </th>  <td> 35000</td> \n",
       "</tr>\n",
       "<tr>\n",
       "  <th>Model:</th>                 <td>Logit</td>      <th>  Df Residuals:      </th>  <td> 34992</td> \n",
       "</tr>\n",
       "<tr>\n",
       "  <th>Method:</th>                 <td>MLE</td>       <th>  Df Model:          </th>  <td>     7</td> \n",
       "</tr>\n",
       "<tr>\n",
       "  <th>Date:</th>            <td>Tue, 30 Nov 2021</td> <th>  Pseudo R-squ.:     </th>  <td>0.2907</td> \n",
       "</tr>\n",
       "<tr>\n",
       "  <th>Time:</th>                <td>23:02:27</td>     <th>  Log-Likelihood:    </th> <td> -15166.</td>\n",
       "</tr>\n",
       "<tr>\n",
       "  <th>converged:</th>             <td>True</td>       <th>  LL-Null:           </th> <td> -21381.</td>\n",
       "</tr>\n",
       "<tr>\n",
       "  <th>Covariance Type:</th>     <td>nonrobust</td>    <th>  LLR p-value:       </th>  <td> 0.000</td> \n",
       "</tr>\n",
       "</table>\n",
       "<table class=\"simpletable\">\n",
       "<tr>\n",
       "          <td></td>            <th>coef</th>     <th>std err</th>      <th>z</th>      <th>P>|z|</th>  <th>[0.025</th>    <th>0.975]</th>  \n",
       "</tr>\n",
       "<tr>\n",
       "  <th>popularity</th>       <td>    0.0459</td> <td>    0.001</td> <td>   41.526</td> <td> 0.000</td> <td>    0.044</td> <td>    0.048</td>\n",
       "</tr>\n",
       "<tr>\n",
       "  <th>acousticness</th>     <td>   -0.4818</td> <td>    0.063</td> <td>   -7.674</td> <td> 0.000</td> <td>   -0.605</td> <td>   -0.359</td>\n",
       "</tr>\n",
       "<tr>\n",
       "  <th>danceability</th>     <td>    2.9258</td> <td>    0.093</td> <td>   31.476</td> <td> 0.000</td> <td>    2.744</td> <td>    3.108</td>\n",
       "</tr>\n",
       "<tr>\n",
       "  <th>energy</th>           <td>   -6.3017</td> <td>    0.085</td> <td>  -74.570</td> <td> 0.000</td> <td>   -6.467</td> <td>   -6.136</td>\n",
       "</tr>\n",
       "<tr>\n",
       "  <th>instrumentalness</th> <td>    1.0668</td> <td>    0.057</td> <td>   18.626</td> <td> 0.000</td> <td>    0.955</td> <td>    1.179</td>\n",
       "</tr>\n",
       "<tr>\n",
       "  <th>loudness</th>         <td>    0.2129</td> <td>    0.004</td> <td>   47.714</td> <td> 0.000</td> <td>    0.204</td> <td>    0.222</td>\n",
       "</tr>\n",
       "<tr>\n",
       "  <th>speechiness</th>      <td>    8.7190</td> <td>    0.169</td> <td>   51.444</td> <td> 0.000</td> <td>    8.387</td> <td>    9.051</td>\n",
       "</tr>\n",
       "<tr>\n",
       "  <th>valence</th>          <td>    0.1768</td> <td>    0.070</td> <td>    2.541</td> <td> 0.011</td> <td>    0.040</td> <td>    0.313</td>\n",
       "</tr>\n",
       "</table>"
      ],
      "text/plain": [
       "<class 'statsmodels.iolib.summary.Summary'>\n",
       "\"\"\"\n",
       "                           Logit Regression Results                           \n",
       "==============================================================================\n",
       "Dep. Variable:             Escolhidos   No. Observations:                35000\n",
       "Model:                          Logit   Df Residuals:                    34992\n",
       "Method:                           MLE   Df Model:                            7\n",
       "Date:                Tue, 30 Nov 2021   Pseudo R-squ.:                  0.2907\n",
       "Time:                        23:02:27   Log-Likelihood:                -15166.\n",
       "converged:                       True   LL-Null:                       -21381.\n",
       "Covariance Type:            nonrobust   LLR p-value:                     0.000\n",
       "====================================================================================\n",
       "                       coef    std err          z      P>|z|      [0.025      0.975]\n",
       "------------------------------------------------------------------------------------\n",
       "popularity           0.0459      0.001     41.526      0.000       0.044       0.048\n",
       "acousticness        -0.4818      0.063     -7.674      0.000      -0.605      -0.359\n",
       "danceability         2.9258      0.093     31.476      0.000       2.744       3.108\n",
       "energy              -6.3017      0.085    -74.570      0.000      -6.467      -6.136\n",
       "instrumentalness     1.0668      0.057     18.626      0.000       0.955       1.179\n",
       "loudness             0.2129      0.004     47.714      0.000       0.204       0.222\n",
       "speechiness          8.7190      0.169     51.444      0.000       8.387       9.051\n",
       "valence              0.1768      0.070      2.541      0.011       0.040       0.313\n",
       "====================================================================================\n",
       "\"\"\""
      ]
     },
     "execution_count": 220,
     "metadata": {},
     "output_type": "execute_result"
    }
   ],
   "source": [
    "X=['popularity','acousticness', 'danceability', 'energy','instrumentalness','loudness','speechiness', 'valence']\n",
    "results = regress(Y,X)\n",
    "results.summary()"
   ]
  },
  {
   "cell_type": "markdown",
   "metadata": {},
   "source": [
    "Criando um modelo final usando o sklearn, pois este pacote oferece mais ferramentas para o teste e análise de resultados."
   ]
  },
  {
   "cell_type": "code",
   "execution_count": 221,
   "metadata": {},
   "outputs": [
    {
     "data": {
      "text/plain": [
       "LogisticRegression(max_iter=200)"
      ]
     },
     "execution_count": 221,
     "metadata": {},
     "output_type": "execute_result"
    }
   ],
   "source": [
    "logreg = LogisticRegression(max_iter=200)\n",
    "logreg.fit(X_train, y_train)"
   ]
  },
  {
   "cell_type": "markdown",
   "metadata": {},
   "source": [
    "Prevendo resultados baseado nos dados de teste anteriormente definidos e mostrando sua precisão."
   ]
  },
  {
   "cell_type": "markdown",
   "metadata": {},
   "source": [
    "# Checando os resultados do modelo de regressão logística"
   ]
  },
  {
   "cell_type": "code",
   "execution_count": 222,
   "metadata": {},
   "outputs": [
    {
     "name": "stdout",
     "output_type": "stream",
     "text": [
      "A precisão do modelo é de: 81.92%\n"
     ]
    }
   ],
   "source": [
    "y_pred = logreg.predict(X_test)\n",
    "print('A precisão do modelo é de: {:.2f}%'.format(logreg.score(X_test, y_test)*100))"
   ]
  },
  {
   "cell_type": "markdown",
   "metadata": {},
   "source": []
  },
  {
   "cell_type": "markdown",
   "metadata": {},
   "source": [
    "Tendo a matriz M dada a seguir, podemos saber quantos acertos temos ao somar sua diagonal principal e os erros ao somar a diagonal secundária."
   ]
  },
  {
   "cell_type": "code",
   "execution_count": 223,
   "metadata": {},
   "outputs": [
    {
     "name": "stdout",
     "output_type": "stream",
     "text": [
      "[[9663  838]\n",
      " [1874 2625]]\n"
     ]
    }
   ],
   "source": [
    "confusion_matrix = confusion_matrix(y_test, y_pred)\n",
    "print(confusion_matrix)"
   ]
  },
  {
   "cell_type": "markdown",
   "metadata": {},
   "source": [
    "Aqui temos um breve resumo dos resultados do modelo."
   ]
  },
  {
   "cell_type": "code",
   "execution_count": 224,
   "metadata": {},
   "outputs": [
    {
     "name": "stdout",
     "output_type": "stream",
     "text": [
      "              precision    recall  f1-score   support\n",
      "\n",
      "           0       0.84      0.92      0.88     10501\n",
      "           1       0.76      0.58      0.66      4499\n",
      "\n",
      "    accuracy                           0.82     15000\n",
      "   macro avg       0.80      0.75      0.77     15000\n",
      "weighted avg       0.81      0.82      0.81     15000\n",
      "\n"
     ]
    }
   ],
   "source": [
    "print(classification_report(y_test, y_pred))"
   ]
  },
  {
   "cell_type": "markdown",
   "metadata": {},
   "source": [
    "# Curva Característica de Operação do Receptor:\n",
    "Nessa curva coloca-se de forma gráfica o desempenho do modelo à medida que seu limiar de discriminação varia.\n",
    "Portanto, quanto mais arcado e de concavidade para baixo, melhor validado está nosso modelo."
   ]
  },
  {
   "cell_type": "code",
   "execution_count": 225,
   "metadata": {},
   "outputs": [
    {
     "data": {
      "image/png": "[encoded data removed]",
      "text/plain": [
       "<Figure size 432x288 with 1 Axes>"
      ]
     },
     "metadata": {},
     "output_type": "display_data"
    }
   ],
   "source": [
    "#ROC CURVE\n",
    "\n",
    "logit_roc_auc = roc_auc_score(y_test, logreg.predict(X_test))\n",
    "fpr, tpr, thresholds = roc_curve(y_test, logreg.predict_proba(X_test)[:,1])\n",
    "plt.figure()\n",
    "plt.plot(fpr, tpr)\n",
    "plt.plot([0, 1], [0, 1],'r--')\n",
    "plt.xlim([0.0, 1.0])\n",
    "plt.ylim([0.0, 1.05])\n",
    "plt.xlabel('Taxa de Falso Positivo')\n",
    "plt.ylabel('Taxa de Positivos Corretos')\n",
    "plt.title('Curva Característica de Operação do Receptor')\n",
    "plt.show()"
   ]
  },
  {
   "cell_type": "markdown",
   "metadata": {},
   "source": [
    "# Modelo de Decision Tree\n",
    "O modelo 'Decision Tree' usa vários algoritmos para decidir dividir um nó em dois ou mais subnós. A criação de subnós aumenta a homogeneidade dos subnós que foram resultantes."
   ]
  },
  {
   "cell_type": "markdown",
   "metadata": {},
   "source": [
    "Cria um objeto da classe DecisionTreeClassifier usando os pârametros de treino."
   ]
  },
  {
   "cell_type": "code",
   "execution_count": 226,
   "metadata": {},
   "outputs": [],
   "source": [
    "clf=DecisionTreeClassifier()\n",
    "clf=clf.fit(X_train,y_train)"
   ]
  },
  {
   "cell_type": "markdown",
   "metadata": {},
   "source": [
    "Testa o classificador com o DataSet de teste"
   ]
  },
  {
   "cell_type": "code",
   "execution_count": 233,
   "metadata": {},
   "outputs": [],
   "source": [
    "y_pred=clf.predict(X_test)"
   ]
  },
  {
   "cell_type": "markdown",
   "metadata": {},
   "source": [
    "Checa a precisão do classificador."
   ]
  },
  {
   "cell_type": "code",
   "execution_count": 234,
   "metadata": {},
   "outputs": [
    {
     "name": "stdout",
     "output_type": "stream",
     "text": [
      "Precisão: 79.34%\n"
     ]
    }
   ],
   "source": [
    "print(\"Precisão: {:.2f}%\".format(metrics.accuracy_score(y_test, y_pred)*100))"
   ]
  },
  {
   "cell_type": "markdown",
   "metadata": {},
   "source": [
    "# Visualização gráfica da 'Decision Tree'\n",
    "O código a seguir mostraria graficamente a árvore de decisões, porém, devido a erros com um módulo essencial para seu funcionamento, não conseguimos visualizar."
   ]
  },
  {
   "cell_type": "code",
   "execution_count": 198,
   "metadata": {},
   "outputs": [],
   "source": [
    "# from sklearn.tree import export_graphviz\n",
    "# from six import StringIO  \n",
    "# from IPython.display import Image  \n",
    "# import pydotplus\n",
    "\n",
    "# dot_data = StringIO()\n",
    "# export_graphviz(clf, out_file=dot_data,  \n",
    "#                 filled=True, rounded=True,\n",
    "#                 special_characters=True,feature_names = X,class_names=['0','1'])\n",
    "# graph = pydotplus.graph_from_dot_data(dot_data.getvalue())  \n",
    "# graph.write_png('grafico_arvore_de_decisoes.png')\n",
    "# Image(graph.create_png())"
   ]
  },
  {
   "cell_type": "markdown",
   "metadata": {},
   "source": [
    "# Conclusão"
   ]
  },
  {
   "cell_type": "markdown",
   "metadata": {},
   "source": [
    "A partir dos resultados obtidos tanto no modelo de regressão logística, quanto na ''decision tree'', pode-se concluir que; neste caso, o modelo de regressão logística foi mais eficiente, tendo em vista uma acurácia maior. Porém ambos os modelos são relevantes já que os valores da acurácia foram consideravelmente altos e com pequena diferença entre eles."
   ]
  },
  {
   "cell_type": "code",
   "execution_count": null,
   "metadata": {},
   "outputs": [],
   "source": []
  }
 ],
 "metadata": {
  "interpreter": {
   "hash": "250b308242d36e83629721c7244075b381b1b678cf3b391cdc434a91845cedac"
  },
  "kernelspec": {
   "display_name": "Python 3 (ipykernel)",
   "language": "python",
   "name": "python3"
  },
  "language_info": {
   "codemirror_mode": {
    "name": "ipython",
    "version": 3
   },
   "file_extension": ".py",
   "mimetype": "text/x-python",
   "name": "python",
   "nbconvert_exporter": "python",
   "pygments_lexer": "ipython3",
   "version": "3.9.4"
  }
 },
 "nbformat": 4,
 "nbformat_minor": 2
}
