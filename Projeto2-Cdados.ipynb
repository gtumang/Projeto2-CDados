{
 "cells": [
  {
   "cell_type": "code",
   "execution_count": 1,
   "metadata": {},
   "outputs": [],
   "source": [
    "#importa bibliotecas\n",
    "import pandas as pd\n",
    "import numpy as np\n",
    "from scipy.stats import norm, probplot\n",
    "import statsmodels.api as sm\n",
    "import matplotlib.pyplot as plt\n"
   ]
  },
  {
   "cell_type": "markdown",
   "metadata": {},
   "source": [
    "Leitura da base de dados e visualização"
   ]
  },
  {
   "cell_type": "code",
   "execution_count": 2,
   "metadata": {},
   "outputs": [
    {
     "data": {
      "text/html": [
       "<div>\n",
       "<style scoped>\n",
       "    .dataframe tbody tr th:only-of-type {\n",
       "        vertical-align: middle;\n",
       "    }\n",
       "\n",
       "    .dataframe tbody tr th {\n",
       "        vertical-align: top;\n",
       "    }\n",
       "\n",
       "    .dataframe thead th {\n",
       "        text-align: right;\n",
       "    }\n",
       "</style>\n",
       "<table border=\"1\" class=\"dataframe\">\n",
       "  <thead>\n",
       "    <tr style=\"text-align: right;\">\n",
       "      <th></th>\n",
       "      <th>instance_id</th>\n",
       "      <th>artist_name</th>\n",
       "      <th>track_name</th>\n",
       "      <th>popularity</th>\n",
       "      <th>acousticness</th>\n",
       "      <th>danceability</th>\n",
       "      <th>duration_ms</th>\n",
       "      <th>energy</th>\n",
       "      <th>instrumentalness</th>\n",
       "      <th>key</th>\n",
       "      <th>liveness</th>\n",
       "      <th>loudness</th>\n",
       "      <th>mode</th>\n",
       "      <th>speechiness</th>\n",
       "      <th>tempo</th>\n",
       "      <th>obtained_date</th>\n",
       "      <th>valence</th>\n",
       "      <th>music_genre</th>\n",
       "    </tr>\n",
       "  </thead>\n",
       "  <tbody>\n",
       "    <tr>\n",
       "      <th>0</th>\n",
       "      <td>32894.0</td>\n",
       "      <td>Röyksopp</td>\n",
       "      <td>Röyksopp's Night Out</td>\n",
       "      <td>27.0</td>\n",
       "      <td>0.00468</td>\n",
       "      <td>0.652</td>\n",
       "      <td>-1.0</td>\n",
       "      <td>0.941</td>\n",
       "      <td>0.79200</td>\n",
       "      <td>A#</td>\n",
       "      <td>0.115</td>\n",
       "      <td>-5.201</td>\n",
       "      <td>Minor</td>\n",
       "      <td>0.0748</td>\n",
       "      <td>100.889</td>\n",
       "      <td>4-Apr</td>\n",
       "      <td>0.759</td>\n",
       "      <td>Electronic</td>\n",
       "    </tr>\n",
       "    <tr>\n",
       "      <th>1</th>\n",
       "      <td>46652.0</td>\n",
       "      <td>Thievery Corporation</td>\n",
       "      <td>The Shining Path</td>\n",
       "      <td>31.0</td>\n",
       "      <td>0.01270</td>\n",
       "      <td>0.622</td>\n",
       "      <td>218293.0</td>\n",
       "      <td>0.890</td>\n",
       "      <td>0.95000</td>\n",
       "      <td>D</td>\n",
       "      <td>0.124</td>\n",
       "      <td>-7.043</td>\n",
       "      <td>Minor</td>\n",
       "      <td>0.0300</td>\n",
       "      <td>115.00200000000001</td>\n",
       "      <td>4-Apr</td>\n",
       "      <td>0.531</td>\n",
       "      <td>Electronic</td>\n",
       "    </tr>\n",
       "    <tr>\n",
       "      <th>2</th>\n",
       "      <td>30097.0</td>\n",
       "      <td>Dillon Francis</td>\n",
       "      <td>Hurricane</td>\n",
       "      <td>28.0</td>\n",
       "      <td>0.00306</td>\n",
       "      <td>0.620</td>\n",
       "      <td>215613.0</td>\n",
       "      <td>0.755</td>\n",
       "      <td>0.01180</td>\n",
       "      <td>G#</td>\n",
       "      <td>0.534</td>\n",
       "      <td>-4.617</td>\n",
       "      <td>Major</td>\n",
       "      <td>0.0345</td>\n",
       "      <td>127.994</td>\n",
       "      <td>4-Apr</td>\n",
       "      <td>0.333</td>\n",
       "      <td>Electronic</td>\n",
       "    </tr>\n",
       "    <tr>\n",
       "      <th>3</th>\n",
       "      <td>62177.0</td>\n",
       "      <td>Dubloadz</td>\n",
       "      <td>Nitro</td>\n",
       "      <td>34.0</td>\n",
       "      <td>0.02540</td>\n",
       "      <td>0.774</td>\n",
       "      <td>166875.0</td>\n",
       "      <td>0.700</td>\n",
       "      <td>0.00253</td>\n",
       "      <td>C#</td>\n",
       "      <td>0.157</td>\n",
       "      <td>-4.498</td>\n",
       "      <td>Major</td>\n",
       "      <td>0.2390</td>\n",
       "      <td>128.014</td>\n",
       "      <td>4-Apr</td>\n",
       "      <td>0.270</td>\n",
       "      <td>Electronic</td>\n",
       "    </tr>\n",
       "    <tr>\n",
       "      <th>4</th>\n",
       "      <td>24907.0</td>\n",
       "      <td>What So Not</td>\n",
       "      <td>Divide &amp; Conquer</td>\n",
       "      <td>32.0</td>\n",
       "      <td>0.00465</td>\n",
       "      <td>0.638</td>\n",
       "      <td>222369.0</td>\n",
       "      <td>0.587</td>\n",
       "      <td>0.90900</td>\n",
       "      <td>F#</td>\n",
       "      <td>0.157</td>\n",
       "      <td>-6.266</td>\n",
       "      <td>Major</td>\n",
       "      <td>0.0413</td>\n",
       "      <td>145.036</td>\n",
       "      <td>4-Apr</td>\n",
       "      <td>0.323</td>\n",
       "      <td>Electronic</td>\n",
       "    </tr>\n",
       "  </tbody>\n",
       "</table>\n",
       "</div>"
      ],
      "text/plain": [
       "   instance_id           artist_name            track_name  popularity  \\\n",
       "0      32894.0              Röyksopp  Röyksopp's Night Out        27.0   \n",
       "1      46652.0  Thievery Corporation      The Shining Path        31.0   \n",
       "2      30097.0        Dillon Francis             Hurricane        28.0   \n",
       "3      62177.0              Dubloadz                 Nitro        34.0   \n",
       "4      24907.0           What So Not      Divide & Conquer        32.0   \n",
       "\n",
       "   acousticness  danceability  duration_ms  energy  instrumentalness key  \\\n",
       "0       0.00468         0.652         -1.0   0.941           0.79200  A#   \n",
       "1       0.01270         0.622     218293.0   0.890           0.95000   D   \n",
       "2       0.00306         0.620     215613.0   0.755           0.01180  G#   \n",
       "3       0.02540         0.774     166875.0   0.700           0.00253  C#   \n",
       "4       0.00465         0.638     222369.0   0.587           0.90900  F#   \n",
       "\n",
       "   liveness  loudness   mode  speechiness               tempo obtained_date  \\\n",
       "0     0.115    -5.201  Minor       0.0748             100.889         4-Apr   \n",
       "1     0.124    -7.043  Minor       0.0300  115.00200000000001         4-Apr   \n",
       "2     0.534    -4.617  Major       0.0345             127.994         4-Apr   \n",
       "3     0.157    -4.498  Major       0.2390             128.014         4-Apr   \n",
       "4     0.157    -6.266  Major       0.0413             145.036         4-Apr   \n",
       "\n",
       "   valence music_genre  \n",
       "0    0.759  Electronic  \n",
       "1    0.531  Electronic  \n",
       "2    0.333  Electronic  \n",
       "3    0.270  Electronic  \n",
       "4    0.323  Electronic  "
      ]
     },
     "execution_count": 2,
     "metadata": {},
     "output_type": "execute_result"
    }
   ],
   "source": [
    "data = pd.read_csv(\"music_genre.csv\")\n",
    "data.head()"
   ]
  },
  {
   "cell_type": "code",
   "execution_count": 3,
   "metadata": {},
   "outputs": [
    {
     "data": {
      "text/plain": [
       "Index(['instance_id', 'artist_name', 'track_name', 'popularity',\n",
       "       'acousticness', 'danceability', 'duration_ms', 'energy',\n",
       "       'instrumentalness', 'key', 'liveness', 'loudness', 'mode',\n",
       "       'speechiness', 'tempo', 'obtained_date', 'valence', 'music_genre'],\n",
       "      dtype='object')"
      ]
     },
     "execution_count": 3,
     "metadata": {},
     "output_type": "execute_result"
    }
   ],
   "source": [
    "data.columns"
   ]
  },
  {
   "cell_type": "markdown",
   "metadata": {},
   "source": [
    "Limpeza da base de dados"
   ]
  },
  {
   "cell_type": "code",
   "execution_count": 4,
   "metadata": {},
   "outputs": [
    {
     "name": "stdout",
     "output_type": "stream",
     "text": [
      "artist_name         5\n",
      "popularity          5\n",
      "acousticness        5\n",
      "danceability        5\n",
      "duration_ms         5\n",
      "energy              5\n",
      "instrumentalness    5\n",
      "key                 5\n",
      "liveness            5\n",
      "loudness            5\n",
      "mode                5\n",
      "speechiness         5\n",
      "tempo               5\n",
      "valence             5\n",
      "music_genre         5\n",
      "dtype: int64\n"
     ]
    }
   ],
   "source": [
    "df=data[['artist_name', 'popularity',\n",
    "       'acousticness', 'danceability', 'duration_ms', 'energy',\n",
    "       'instrumentalness', 'key', 'liveness', 'loudness', 'mode',\n",
    "       'speechiness', 'tempo', 'valence','music_genre']]\n",
    "df.describe()\n",
    "print(df.isnull().sum())"
   ]
  },
  {
   "cell_type": "code",
   "execution_count": 5,
   "metadata": {},
   "outputs": [
    {
     "name": "stdout",
     "output_type": "stream",
     "text": [
      "artist_name         0\n",
      "popularity          0\n",
      "acousticness        0\n",
      "danceability        0\n",
      "duration_ms         0\n",
      "energy              0\n",
      "instrumentalness    0\n",
      "key                 0\n",
      "liveness            0\n",
      "loudness            0\n",
      "mode                0\n",
      "speechiness         0\n",
      "tempo               0\n",
      "valence             0\n",
      "music_genre         0\n",
      "dtype: int64\n"
     ]
    }
   ],
   "source": [
    "df=df.dropna(axis=0)\n",
    "print(df.isnull().sum())"
   ]
  },
  {
   "cell_type": "markdown",
   "metadata": {},
   "source": [
    "Análise exploratória"
   ]
  },
  {
   "cell_type": "code",
   "execution_count": 6,
   "metadata": {},
   "outputs": [
    {
     "data": {
      "text/plain": [
       "Country        5000\n",
       "Rock           5000\n",
       "Classical      5000\n",
       "Blues          5000\n",
       "Alternative    5000\n",
       "Electronic     5000\n",
       "Jazz           5000\n",
       "Anime          5000\n",
       "Rap            5000\n",
       "Hip-Hop        5000\n",
       "Name: music_genre, dtype: int64"
      ]
     },
     "execution_count": 6,
     "metadata": {},
     "output_type": "execute_result"
    }
   ],
   "source": [
    "df['music_genre'].value_counts()"
   ]
  },
  {
   "cell_type": "code",
   "execution_count": 7,
   "metadata": {},
   "outputs": [
    {
     "data": {
      "text/plain": [
       "empty_field                4.978\n",
       "Nobuo Uematsu              0.858\n",
       "Wolfgang Amadeus Mozart    0.804\n",
       "Ludwig van Beethoven       0.634\n",
       "Johann Sebastian Bach      0.628\n",
       "                           ...  \n",
       "Blind Boy Fuller           0.002\n",
       "Ricardo Arjona             0.002\n",
       "Nigga                      0.002\n",
       "Starland Vocal Band        0.002\n",
       "Raphaella                  0.002\n",
       "Name: artist_name, Length: 6863, dtype: float64"
      ]
     },
     "execution_count": 7,
     "metadata": {},
     "output_type": "execute_result"
    }
   ],
   "source": [
    "df['artist_name'].value_counts(True)*100"
   ]
  },
  {
   "cell_type": "code",
   "execution_count": 8,
   "metadata": {},
   "outputs": [
    {
     "data": {
      "text/plain": [
       "empty_field                2489\n",
       "Nobuo Uematsu               429\n",
       "Wolfgang Amadeus Mozart     402\n",
       "Ludwig van Beethoven        317\n",
       "Johann Sebastian Bach       314\n",
       "                           ... \n",
       "Blind Boy Fuller              1\n",
       "Ricardo Arjona                1\n",
       "Nigga                         1\n",
       "Starland Vocal Band           1\n",
       "Raphaella                     1\n",
       "Name: artist_name, Length: 6863, dtype: int64"
      ]
     },
     "execution_count": 8,
     "metadata": {},
     "output_type": "execute_result"
    }
   ],
   "source": [
    "df['artist_name'].value_counts()"
   ]
  },
  {
   "cell_type": "code",
   "execution_count": 9,
   "metadata": {},
   "outputs": [
    {
     "data": {
      "text/html": [
       "<div>\n",
       "<style scoped>\n",
       "    .dataframe tbody tr th:only-of-type {\n",
       "        vertical-align: middle;\n",
       "    }\n",
       "\n",
       "    .dataframe tbody tr th {\n",
       "        vertical-align: top;\n",
       "    }\n",
       "\n",
       "    .dataframe thead th {\n",
       "        text-align: right;\n",
       "    }\n",
       "</style>\n",
       "<table border=\"1\" class=\"dataframe\">\n",
       "  <thead>\n",
       "    <tr style=\"text-align: right;\">\n",
       "      <th>music_genre</th>\n",
       "      <th>Alternative</th>\n",
       "      <th>Anime</th>\n",
       "      <th>Blues</th>\n",
       "      <th>Classical</th>\n",
       "      <th>Country</th>\n",
       "      <th>Electronic</th>\n",
       "      <th>Hip-Hop</th>\n",
       "      <th>Jazz</th>\n",
       "      <th>Rap</th>\n",
       "      <th>Rock</th>\n",
       "    </tr>\n",
       "    <tr>\n",
       "      <th>artist_name</th>\n",
       "      <th></th>\n",
       "      <th></th>\n",
       "      <th></th>\n",
       "      <th></th>\n",
       "      <th></th>\n",
       "      <th></th>\n",
       "      <th></th>\n",
       "      <th></th>\n",
       "      <th></th>\n",
       "      <th></th>\n",
       "    </tr>\n",
       "  </thead>\n",
       "  <tbody>\n",
       "    <tr>\n",
       "      <th>!!!</th>\n",
       "      <td>1</td>\n",
       "      <td>0</td>\n",
       "      <td>0</td>\n",
       "      <td>0</td>\n",
       "      <td>0</td>\n",
       "      <td>21</td>\n",
       "      <td>0</td>\n",
       "      <td>0</td>\n",
       "      <td>0</td>\n",
       "      <td>0</td>\n",
       "    </tr>\n",
       "    <tr>\n",
       "      <th>\"Weird Al\" Yankovic</th>\n",
       "      <td>0</td>\n",
       "      <td>0</td>\n",
       "      <td>0</td>\n",
       "      <td>0</td>\n",
       "      <td>0</td>\n",
       "      <td>0</td>\n",
       "      <td>0</td>\n",
       "      <td>0</td>\n",
       "      <td>0</td>\n",
       "      <td>1</td>\n",
       "    </tr>\n",
       "    <tr>\n",
       "      <th>$NOT</th>\n",
       "      <td>0</td>\n",
       "      <td>0</td>\n",
       "      <td>0</td>\n",
       "      <td>0</td>\n",
       "      <td>0</td>\n",
       "      <td>0</td>\n",
       "      <td>3</td>\n",
       "      <td>0</td>\n",
       "      <td>0</td>\n",
       "      <td>0</td>\n",
       "    </tr>\n",
       "    <tr>\n",
       "      <th>$tupid Young</th>\n",
       "      <td>0</td>\n",
       "      <td>0</td>\n",
       "      <td>0</td>\n",
       "      <td>0</td>\n",
       "      <td>0</td>\n",
       "      <td>0</td>\n",
       "      <td>0</td>\n",
       "      <td>0</td>\n",
       "      <td>1</td>\n",
       "      <td>0</td>\n",
       "    </tr>\n",
       "    <tr>\n",
       "      <th>$uicideBoy$</th>\n",
       "      <td>0</td>\n",
       "      <td>0</td>\n",
       "      <td>0</td>\n",
       "      <td>0</td>\n",
       "      <td>0</td>\n",
       "      <td>0</td>\n",
       "      <td>51</td>\n",
       "      <td>0</td>\n",
       "      <td>41</td>\n",
       "      <td>0</td>\n",
       "    </tr>\n",
       "    <tr>\n",
       "      <th>...</th>\n",
       "      <td>...</td>\n",
       "      <td>...</td>\n",
       "      <td>...</td>\n",
       "      <td>...</td>\n",
       "      <td>...</td>\n",
       "      <td>...</td>\n",
       "      <td>...</td>\n",
       "      <td>...</td>\n",
       "      <td>...</td>\n",
       "      <td>...</td>\n",
       "    </tr>\n",
       "    <tr>\n",
       "      <th>棗坂シキ(CV.平川大輔)</th>\n",
       "      <td>0</td>\n",
       "      <td>1</td>\n",
       "      <td>0</td>\n",
       "      <td>0</td>\n",
       "      <td>0</td>\n",
       "      <td>0</td>\n",
       "      <td>0</td>\n",
       "      <td>0</td>\n",
       "      <td>0</td>\n",
       "      <td>0</td>\n",
       "    </tr>\n",
       "    <tr>\n",
       "      <th>楚神ウリエ(CV.近藤隆)</th>\n",
       "      <td>0</td>\n",
       "      <td>2</td>\n",
       "      <td>0</td>\n",
       "      <td>0</td>\n",
       "      <td>0</td>\n",
       "      <td>0</td>\n",
       "      <td>0</td>\n",
       "      <td>0</td>\n",
       "      <td>0</td>\n",
       "      <td>0</td>\n",
       "    </tr>\n",
       "    <tr>\n",
       "      <th>立華リツカ(CV.茜屋日海夏)</th>\n",
       "      <td>0</td>\n",
       "      <td>1</td>\n",
       "      <td>0</td>\n",
       "      <td>0</td>\n",
       "      <td>0</td>\n",
       "      <td>0</td>\n",
       "      <td>0</td>\n",
       "      <td>0</td>\n",
       "      <td>0</td>\n",
       "      <td>0</td>\n",
       "    </tr>\n",
       "    <tr>\n",
       "      <th>鉤貫レム(CV.斉藤壮馬)</th>\n",
       "      <td>0</td>\n",
       "      <td>1</td>\n",
       "      <td>0</td>\n",
       "      <td>0</td>\n",
       "      <td>0</td>\n",
       "      <td>0</td>\n",
       "      <td>0</td>\n",
       "      <td>0</td>\n",
       "      <td>0</td>\n",
       "      <td>0</td>\n",
       "    </tr>\n",
       "    <tr>\n",
       "      <th>黒崎真音</th>\n",
       "      <td>0</td>\n",
       "      <td>10</td>\n",
       "      <td>0</td>\n",
       "      <td>0</td>\n",
       "      <td>0</td>\n",
       "      <td>0</td>\n",
       "      <td>0</td>\n",
       "      <td>0</td>\n",
       "      <td>0</td>\n",
       "      <td>0</td>\n",
       "    </tr>\n",
       "  </tbody>\n",
       "</table>\n",
       "<p>6863 rows × 10 columns</p>\n",
       "</div>"
      ],
      "text/plain": [
       "music_genre          Alternative  Anime  Blues  Classical  Country  \\\n",
       "artist_name                                                          \n",
       "!!!                            1      0      0          0        0   \n",
       "\"Weird Al\" Yankovic            0      0      0          0        0   \n",
       "$NOT                           0      0      0          0        0   \n",
       "$tupid Young                   0      0      0          0        0   \n",
       "$uicideBoy$                    0      0      0          0        0   \n",
       "...                          ...    ...    ...        ...      ...   \n",
       "棗坂シキ(CV.平川大輔)                  0      1      0          0        0   \n",
       "楚神ウリエ(CV.近藤隆)                  0      2      0          0        0   \n",
       "立華リツカ(CV.茜屋日海夏)                0      1      0          0        0   \n",
       "鉤貫レム(CV.斉藤壮馬)                  0      1      0          0        0   \n",
       "黒崎真音                           0     10      0          0        0   \n",
       "\n",
       "music_genre          Electronic  Hip-Hop  Jazz  Rap  Rock  \n",
       "artist_name                                                \n",
       "!!!                          21        0     0    0     0  \n",
       "\"Weird Al\" Yankovic           0        0     0    0     1  \n",
       "$NOT                          0        3     0    0     0  \n",
       "$tupid Young                  0        0     0    1     0  \n",
       "$uicideBoy$                   0       51     0   41     0  \n",
       "...                         ...      ...   ...  ...   ...  \n",
       "棗坂シキ(CV.平川大輔)                 0        0     0    0     0  \n",
       "楚神ウリエ(CV.近藤隆)                 0        0     0    0     0  \n",
       "立華リツカ(CV.茜屋日海夏)               0        0     0    0     0  \n",
       "鉤貫レム(CV.斉藤壮馬)                 0        0     0    0     0  \n",
       "黒崎真音                          0        0     0    0     0  \n",
       "\n",
       "[6863 rows x 10 columns]"
      ]
     },
     "execution_count": 9,
     "metadata": {},
     "output_type": "execute_result"
    }
   ],
   "source": [
    "pd.crosstab(df['artist_name'],df['music_genre'])"
   ]
  },
  {
   "cell_type": "code",
   "execution_count": 10,
   "metadata": {},
   "outputs": [],
   "source": [
    "dic={\"Alternative\":0,\"Anime\":1,\"Blues\":2,\"Classical\":3,\"Country\":4,\"Electronic\":5,\"Hip-Hop\":6,\"Jazz\":7,\"Rap\":8,\"Rock\":9}\n",
    "df['music_genre']=df['music_genre'].map(dic)"
   ]
  },
  {
   "cell_type": "code",
   "execution_count": 11,
   "metadata": {},
   "outputs": [],
   "source": [
    "df['Hip-Hop']=0\n",
    "df.loc[df['music_genre']==6,\"Hip-Hop\"]=1"
   ]
  },
  {
   "cell_type": "code",
   "execution_count": 12,
   "metadata": {},
   "outputs": [],
   "source": [
    "import seaborn as sns"
   ]
  },
  {
   "cell_type": "code",
   "execution_count": 29,
   "metadata": {},
   "outputs": [
    {
     "data": {
      "image/png": "[encoded data removed]",
      "text/plain": [
       "<Figure size 432x288 with 1 Axes>"
      ]
     },
     "metadata": {
      "needs_background": "light"
     },
     "output_type": "display_data"
    }
   ],
   "source": [
    "sns.boxplot(x=df['Hip-Hop'],y=df['danceability']);"
   ]
  },
  {
   "cell_type": "code",
   "execution_count": 14,
   "metadata": {},
   "outputs": [
    {
     "data": {
      "text/plain": [
       "artist_name          object\n",
       "popularity          float64\n",
       "acousticness        float64\n",
       "danceability        float64\n",
       "duration_ms         float64\n",
       "energy              float64\n",
       "instrumentalness    float64\n",
       "key                  object\n",
       "liveness            float64\n",
       "loudness            float64\n",
       "mode                 object\n",
       "speechiness         float64\n",
       "tempo                object\n",
       "valence             float64\n",
       "music_genre           int64\n",
       "Hip-Hop               int64\n",
       "dtype: object"
      ]
     },
     "execution_count": 14,
     "metadata": {},
     "output_type": "execute_result"
    }
   ],
   "source": [
    "df.dtypes"
   ]
  },
  {
   "cell_type": "code",
   "execution_count": 15,
   "metadata": {},
   "outputs": [
    {
     "data": {
      "text/plain": [
       "9    5000\n",
       "8    5000\n",
       "7    5000\n",
       "6    5000\n",
       "5    5000\n",
       "4    5000\n",
       "3    5000\n",
       "2    5000\n",
       "1    5000\n",
       "0    5000\n",
       "Name: music_genre, dtype: int64"
      ]
     },
     "execution_count": 15,
     "metadata": {},
     "output_type": "execute_result"
    }
   ],
   "source": [
    "df['music_genre'].value_counts()"
   ]
  },
  {
   "cell_type": "code",
   "execution_count": 25,
   "metadata": {},
   "outputs": [
    {
     "data": {
      "text/plain": [
       "popularity          float64\n",
       "acousticness        float64\n",
       "danceability        float64\n",
       "duration_ms         float64\n",
       "energy              float64\n",
       "instrumentalness    float64\n",
       "liveness            float64\n",
       "loudness            float64\n",
       "speechiness         float64\n",
       "valence             float64\n",
       "dtype: object"
      ]
     },
     "execution_count": 25,
     "metadata": {},
     "output_type": "execute_result"
    }
   ],
   "source": [
    "lista_parametros=['popularity','acousticness', 'danceability','duration_ms', 'energy','instrumentalness', 'liveness','loudness','speechiness', 'valence']\n",
    "X=df[lista_parametros]\n",
    "Y=df['Hip-Hop']\n",
    "X.dtypes"
   ]
  },
  {
   "cell_type": "code",
   "execution_count": 26,
   "metadata": {},
   "outputs": [],
   "source": [
    "def regress(Y,X):\n",
    "\n",
    "#     X_cp = sm.add_constant(X)\n",
    "    model = sm.Logit(Y,X)\n",
    "    results = model.fit()\n",
    "    \n",
    "    return results"
   ]
  },
  {
   "cell_type": "code",
   "execution_count": 27,
   "metadata": {},
   "outputs": [
    {
     "name": "stdout",
     "output_type": "stream",
     "text": [
      "Optimization terminated successfully.\n",
      "         Current function value: 0.226645\n",
      "         Iterations 10\n"
     ]
    },
    {
     "data": {
      "text/html": [
       "<table class=\"simpletable\">\n",
       "<caption>Logit Regression Results</caption>\n",
       "<tr>\n",
       "  <th>Dep. Variable:</th>        <td>Hip-Hop</td>     <th>  No. Observations:  </th>  <td> 50000</td> \n",
       "</tr>\n",
       "<tr>\n",
       "  <th>Model:</th>                 <td>Logit</td>      <th>  Df Residuals:      </th>  <td> 49990</td> \n",
       "</tr>\n",
       "<tr>\n",
       "  <th>Method:</th>                 <td>MLE</td>       <th>  Df Model:          </th>  <td>     9</td> \n",
       "</tr>\n",
       "<tr>\n",
       "  <th>Date:</th>            <td>Tue, 23 Nov 2021</td> <th>  Pseudo R-squ.:     </th>  <td>0.3028</td> \n",
       "</tr>\n",
       "<tr>\n",
       "  <th>Time:</th>                <td>15:32:40</td>     <th>  Log-Likelihood:    </th> <td> -11332.</td>\n",
       "</tr>\n",
       "<tr>\n",
       "  <th>converged:</th>             <td>True</td>       <th>  LL-Null:           </th> <td> -16254.</td>\n",
       "</tr>\n",
       "<tr>\n",
       "  <th>Covariance Type:</th>     <td>nonrobust</td>    <th>  LLR p-value:       </th>  <td> 0.000</td> \n",
       "</tr>\n",
       "</table>\n",
       "<table class=\"simpletable\">\n",
       "<tr>\n",
       "          <td></td>            <th>coef</th>     <th>std err</th>      <th>z</th>      <th>P>|z|</th>  <th>[0.025</th>    <th>0.975]</th>  \n",
       "</tr>\n",
       "<tr>\n",
       "  <th>popularity</th>       <td>    0.0373</td> <td>    0.001</td> <td>   27.277</td> <td> 0.000</td> <td>    0.035</td> <td>    0.040</td>\n",
       "</tr>\n",
       "<tr>\n",
       "  <th>acousticness</th>     <td>   -1.4416</td> <td>    0.088</td> <td>  -16.337</td> <td> 0.000</td> <td>   -1.615</td> <td>   -1.269</td>\n",
       "</tr>\n",
       "<tr>\n",
       "  <th>danceability</th>     <td>    2.6635</td> <td>    0.115</td> <td>   23.233</td> <td> 0.000</td> <td>    2.439</td> <td>    2.888</td>\n",
       "</tr>\n",
       "<tr>\n",
       "  <th>duration_ms</th>      <td>-1.325e-06</td> <td> 1.89e-07</td> <td>   -7.003</td> <td> 0.000</td> <td> -1.7e-06</td> <td>-9.54e-07</td>\n",
       "</tr>\n",
       "<tr>\n",
       "  <th>energy</th>           <td>   -5.3308</td> <td>    0.102</td> <td>  -52.022</td> <td> 0.000</td> <td>   -5.532</td> <td>   -5.130</td>\n",
       "</tr>\n",
       "<tr>\n",
       "  <th>instrumentalness</th> <td>   -3.3843</td> <td>    0.231</td> <td>  -14.674</td> <td> 0.000</td> <td>   -3.836</td> <td>   -2.932</td>\n",
       "</tr>\n",
       "<tr>\n",
       "  <th>liveness</th>         <td>    0.2460</td> <td>    0.116</td> <td>    2.129</td> <td> 0.033</td> <td>    0.020</td> <td>    0.472</td>\n",
       "</tr>\n",
       "<tr>\n",
       "  <th>loudness</th>         <td>    0.2897</td> <td>    0.007</td> <td>   39.143</td> <td> 0.000</td> <td>    0.275</td> <td>    0.304</td>\n",
       "</tr>\n",
       "<tr>\n",
       "  <th>speechiness</th>      <td>    6.0184</td> <td>    0.132</td> <td>   45.513</td> <td> 0.000</td> <td>    5.759</td> <td>    6.278</td>\n",
       "</tr>\n",
       "<tr>\n",
       "  <th>valence</th>          <td>   -0.6499</td> <td>    0.085</td> <td>   -7.619</td> <td> 0.000</td> <td>   -0.817</td> <td>   -0.483</td>\n",
       "</tr>\n",
       "</table>"
      ],
      "text/plain": [
       "<class 'statsmodels.iolib.summary.Summary'>\n",
       "\"\"\"\n",
       "                           Logit Regression Results                           \n",
       "==============================================================================\n",
       "Dep. Variable:                Hip-Hop   No. Observations:                50000\n",
       "Model:                          Logit   Df Residuals:                    49990\n",
       "Method:                           MLE   Df Model:                            9\n",
       "Date:                Tue, 23 Nov 2021   Pseudo R-squ.:                  0.3028\n",
       "Time:                        15:32:40   Log-Likelihood:                -11332.\n",
       "converged:                       True   LL-Null:                       -16254.\n",
       "Covariance Type:            nonrobust   LLR p-value:                     0.000\n",
       "====================================================================================\n",
       "                       coef    std err          z      P>|z|      [0.025      0.975]\n",
       "------------------------------------------------------------------------------------\n",
       "popularity           0.0373      0.001     27.277      0.000       0.035       0.040\n",
       "acousticness        -1.4416      0.088    -16.337      0.000      -1.615      -1.269\n",
       "danceability         2.6635      0.115     23.233      0.000       2.439       2.888\n",
       "duration_ms      -1.325e-06   1.89e-07     -7.003      0.000    -1.7e-06   -9.54e-07\n",
       "energy              -5.3308      0.102    -52.022      0.000      -5.532      -5.130\n",
       "instrumentalness    -3.3843      0.231    -14.674      0.000      -3.836      -2.932\n",
       "liveness             0.2460      0.116      2.129      0.033       0.020       0.472\n",
       "loudness             0.2897      0.007     39.143      0.000       0.275       0.304\n",
       "speechiness          6.0184      0.132     45.513      0.000       5.759       6.278\n",
       "valence             -0.6499      0.085     -7.619      0.000      -0.817      -0.483\n",
       "====================================================================================\n",
       "\"\"\""
      ]
     },
     "execution_count": 27,
     "metadata": {},
     "output_type": "execute_result"
    }
   ],
   "source": [
    "results = regress(Y,X)\n",
    "results.summary()"
   ]
  },
  {
   "cell_type": "code",
   "execution_count": null,
   "metadata": {},
   "outputs": [],
   "source": []
  },
  {
   "cell_type": "code",
   "execution_count": null,
   "metadata": {},
   "outputs": [],
   "source": []
  }
 ],
 "metadata": {
  "interpreter": {
   "hash": "250b308242d36e83629721c7244075b381b1b678cf3b391cdc434a91845cedac"
  },
  "kernelspec": {
   "display_name": "Python 3",
   "language": "python",
   "name": "python3"
  },
  "language_info": {
   "codemirror_mode": {
    "name": "ipython",
    "version": 3
   },
   "file_extension": ".py",
   "mimetype": "text/x-python",
   "name": "python",
   "nbconvert_exporter": "python",
   "pygments_lexer": "ipython3",
   "version": "3.9.4"
  }
 },
 "nbformat": 4,
 "nbformat_minor": 2
}
